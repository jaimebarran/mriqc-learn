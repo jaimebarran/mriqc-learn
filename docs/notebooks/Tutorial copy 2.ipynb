{
 "cells": [
  {
   "cell_type": "markdown",
   "id": "52b7563a",
   "metadata": {},
   "source": [
    "Loading my dataset their way"
   ]
  },
  {
   "cell_type": "code",
   "execution_count": 5,
   "id": "e1e28d01",
   "metadata": {},
   "outputs": [],
   "source": [
    "import numpy as np\n",
    "from sklearn.model_selection import cross_val_score\n",
    "from sklearn.metrics import roc_auc_score as auc"
   ]
  },
  {
   "cell_type": "code",
   "execution_count": 6,
   "id": "07f2bca8",
   "metadata": {},
   "outputs": [],
   "source": [
    "from mriqc_learn.datasets import load_dataset\n",
    "from mriqc_learn.models import preprocess as pp\n",
    "from mriqc_learn.models.production import init_pipeline\n",
    "from mriqc_learn.model_selection import split"
   ]
  },
  {
   "cell_type": "markdown",
   "id": "f1c51b72",
   "metadata": {},
   "source": [
    "## Load some data\n",
    "We first load the ABIDE dataset, one of the default datasets distributed with MRIQC-learn"
   ]
  },
  {
   "cell_type": "code",
   "execution_count": 7,
   "id": "973dc0cd",
   "metadata": {},
   "outputs": [],
   "source": [
    "(train_x, train_y), (_, _) = load_dataset(dataset=\"SHIP183\", split_strategy=\"none\")\n",
    "train_x[\"site\"] = train_y.site"
   ]
  },
  {
   "cell_type": "markdown",
   "id": "969f8885",
   "metadata": {},
   "source": [
    "Let's pick the ratings from \"rater_3\" and binarize the three categories into only two.\n",
    "We can also see that the dataset is unbalanced."
   ]
  },
  {
   "cell_type": "code",
   "execution_count": 8,
   "id": "39d4bb94",
   "metadata": {},
   "outputs": [
    {
     "name": "stdout",
     "output_type": "stream",
     "text": [
      "Excluded=24.59%\n",
      "Accept=75.41%\n"
     ]
    }
   ],
   "source": [
    "train_y = train_y[[\"rating\"]].values.squeeze().astype(int)\n",
    "print(f'Excluded={100 * (train_y == 1).sum() / len(train_y) :.2f}%')\n",
    "print(f'Accept={100 * (train_y == 0).sum() / len(train_y) :.2f}%')\n",
    "train_y[train_y >= 1] = 1"
   ]
  },
  {
   "cell_type": "markdown",
   "id": "a9c4ec3e",
   "metadata": {},
   "source": [
    "Let's print out a pretty view of the data table:"
   ]
  },
  {
   "cell_type": "code",
   "execution_count": 9,
   "id": "3618b2fd",
   "metadata": {},
   "outputs": [
    {
     "data": {
      "text/html": [
       "<div>\n",
       "<style scoped>\n",
       "    .dataframe tbody tr th:only-of-type {\n",
       "        vertical-align: middle;\n",
       "    }\n",
       "\n",
       "    .dataframe tbody tr th {\n",
       "        vertical-align: top;\n",
       "    }\n",
       "\n",
       "    .dataframe thead th {\n",
       "        text-align: right;\n",
       "    }\n",
       "</style>\n",
       "<table border=\"1\" class=\"dataframe\">\n",
       "  <thead>\n",
       "    <tr style=\"text-align: right;\">\n",
       "      <th></th>\n",
       "      <th>cjv</th>\n",
       "      <th>cnr</th>\n",
       "      <th>efc</th>\n",
       "      <th>fber</th>\n",
       "      <th>fwhm_avg</th>\n",
       "      <th>fwhm_x</th>\n",
       "      <th>fwhm_y</th>\n",
       "      <th>fwhm_z</th>\n",
       "      <th>icvs_csf</th>\n",
       "      <th>icvs_gm</th>\n",
       "      <th>...</th>\n",
       "      <th>summary_wm_median</th>\n",
       "      <th>summary_wm_n</th>\n",
       "      <th>summary_wm_p05</th>\n",
       "      <th>summary_wm_p95</th>\n",
       "      <th>summary_wm_stdv</th>\n",
       "      <th>tpm_overlap_csf</th>\n",
       "      <th>tpm_overlap_gm</th>\n",
       "      <th>tpm_overlap_wm</th>\n",
       "      <th>wm2max</th>\n",
       "      <th>site</th>\n",
       "    </tr>\n",
       "  </thead>\n",
       "  <tbody>\n",
       "    <tr>\n",
       "      <th>0</th>\n",
       "      <td>0.489250</td>\n",
       "      <td>2.732287</td>\n",
       "      <td>0.579359</td>\n",
       "      <td>14688.645257</td>\n",
       "      <td>3.726930</td>\n",
       "      <td>3.58919</td>\n",
       "      <td>3.97218</td>\n",
       "      <td>3.61942</td>\n",
       "      <td>0.276925</td>\n",
       "      <td>0.324761</td>\n",
       "      <td>...</td>\n",
       "      <td>1000.134934</td>\n",
       "      <td>185258.000000</td>\n",
       "      <td>924.807739</td>\n",
       "      <td>1101.936190</td>\n",
       "      <td>54.448439</td>\n",
       "      <td>0.171807</td>\n",
       "      <td>0.373188</td>\n",
       "      <td>0.484403</td>\n",
       "      <td>0.487104</td>\n",
       "      <td>SHIP</td>\n",
       "    </tr>\n",
       "    <tr>\n",
       "      <th>1</th>\n",
       "      <td>0.410418</td>\n",
       "      <td>3.376646</td>\n",
       "      <td>0.586394</td>\n",
       "      <td>33378.752649</td>\n",
       "      <td>3.594793</td>\n",
       "      <td>3.39952</td>\n",
       "      <td>3.90242</td>\n",
       "      <td>3.48244</td>\n",
       "      <td>0.183945</td>\n",
       "      <td>0.390542</td>\n",
       "      <td>...</td>\n",
       "      <td>1000.058241</td>\n",
       "      <td>280061.000000</td>\n",
       "      <td>934.175681</td>\n",
       "      <td>1082.185815</td>\n",
       "      <td>45.223944</td>\n",
       "      <td>0.179215</td>\n",
       "      <td>0.448654</td>\n",
       "      <td>0.528051</td>\n",
       "      <td>0.585126</td>\n",
       "      <td>SHIP</td>\n",
       "    </tr>\n",
       "    <tr>\n",
       "      <th>2</th>\n",
       "      <td>0.417318</td>\n",
       "      <td>3.329145</td>\n",
       "      <td>0.597023</td>\n",
       "      <td>60210.142545</td>\n",
       "      <td>3.703273</td>\n",
       "      <td>3.59519</td>\n",
       "      <td>3.96207</td>\n",
       "      <td>3.55256</td>\n",
       "      <td>0.188880</td>\n",
       "      <td>0.383136</td>\n",
       "      <td>...</td>\n",
       "      <td>1000.086168</td>\n",
       "      <td>300476.000000</td>\n",
       "      <td>935.074246</td>\n",
       "      <td>1080.726230</td>\n",
       "      <td>44.762158</td>\n",
       "      <td>0.179264</td>\n",
       "      <td>0.444732</td>\n",
       "      <td>0.520380</td>\n",
       "      <td>0.569838</td>\n",
       "      <td>SHIP</td>\n",
       "    </tr>\n",
       "    <tr>\n",
       "      <th>3</th>\n",
       "      <td>0.436022</td>\n",
       "      <td>3.148955</td>\n",
       "      <td>0.567828</td>\n",
       "      <td>43001.150452</td>\n",
       "      <td>3.418750</td>\n",
       "      <td>3.29147</td>\n",
       "      <td>3.71746</td>\n",
       "      <td>3.24732</td>\n",
       "      <td>0.198440</td>\n",
       "      <td>0.388336</td>\n",
       "      <td>...</td>\n",
       "      <td>1000.077165</td>\n",
       "      <td>227734.000000</td>\n",
       "      <td>929.955451</td>\n",
       "      <td>1087.233951</td>\n",
       "      <td>48.068587</td>\n",
       "      <td>0.181540</td>\n",
       "      <td>0.445394</td>\n",
       "      <td>0.518943</td>\n",
       "      <td>0.648944</td>\n",
       "      <td>SHIP</td>\n",
       "    </tr>\n",
       "    <tr>\n",
       "      <th>4</th>\n",
       "      <td>0.483053</td>\n",
       "      <td>2.862426</td>\n",
       "      <td>0.632164</td>\n",
       "      <td>19353.297357</td>\n",
       "      <td>3.756670</td>\n",
       "      <td>3.69458</td>\n",
       "      <td>3.94944</td>\n",
       "      <td>3.62599</td>\n",
       "      <td>0.279497</td>\n",
       "      <td>0.323268</td>\n",
       "      <td>...</td>\n",
       "      <td>1000.103278</td>\n",
       "      <td>193360.000000</td>\n",
       "      <td>918.812823</td>\n",
       "      <td>1098.299117</td>\n",
       "      <td>55.069951</td>\n",
       "      <td>0.164981</td>\n",
       "      <td>0.377402</td>\n",
       "      <td>0.450177</td>\n",
       "      <td>0.477213</td>\n",
       "      <td>SHIP</td>\n",
       "    </tr>\n",
       "    <tr>\n",
       "      <th>...</th>\n",
       "      <td>...</td>\n",
       "      <td>...</td>\n",
       "      <td>...</td>\n",
       "      <td>...</td>\n",
       "      <td>...</td>\n",
       "      <td>...</td>\n",
       "      <td>...</td>\n",
       "      <td>...</td>\n",
       "      <td>...</td>\n",
       "      <td>...</td>\n",
       "      <td>...</td>\n",
       "      <td>...</td>\n",
       "      <td>...</td>\n",
       "      <td>...</td>\n",
       "      <td>...</td>\n",
       "      <td>...</td>\n",
       "      <td>...</td>\n",
       "      <td>...</td>\n",
       "      <td>...</td>\n",
       "      <td>...</td>\n",
       "      <td>...</td>\n",
       "    </tr>\n",
       "    <tr>\n",
       "      <th>178</th>\n",
       "      <td>1.071183</td>\n",
       "      <td>0.756806</td>\n",
       "      <td>0.513089</td>\n",
       "      <td>13223.535072</td>\n",
       "      <td>3.531503</td>\n",
       "      <td>3.36379</td>\n",
       "      <td>3.87357</td>\n",
       "      <td>3.35715</td>\n",
       "      <td>0.253178</td>\n",
       "      <td>0.342339</td>\n",
       "      <td>...</td>\n",
       "      <td>938.043566</td>\n",
       "      <td>543476.888780</td>\n",
       "      <td>793.057316</td>\n",
       "      <td>1064.632432</td>\n",
       "      <td>82.741266</td>\n",
       "      <td>0.221584</td>\n",
       "      <td>0.472521</td>\n",
       "      <td>0.510402</td>\n",
       "      <td>0.417705</td>\n",
       "      <td>SHIP</td>\n",
       "    </tr>\n",
       "    <tr>\n",
       "      <th>179</th>\n",
       "      <td>0.949581</td>\n",
       "      <td>0.770895</td>\n",
       "      <td>0.590186</td>\n",
       "      <td>9357.126340</td>\n",
       "      <td>3.701913</td>\n",
       "      <td>3.57988</td>\n",
       "      <td>3.94455</td>\n",
       "      <td>3.58131</td>\n",
       "      <td>0.238270</td>\n",
       "      <td>0.337652</td>\n",
       "      <td>...</td>\n",
       "      <td>969.531438</td>\n",
       "      <td>681362.703797</td>\n",
       "      <td>816.917181</td>\n",
       "      <td>1104.197065</td>\n",
       "      <td>87.644512</td>\n",
       "      <td>0.219535</td>\n",
       "      <td>0.455707</td>\n",
       "      <td>0.511997</td>\n",
       "      <td>0.473652</td>\n",
       "      <td>SHIP</td>\n",
       "    </tr>\n",
       "    <tr>\n",
       "      <th>180</th>\n",
       "      <td>1.135211</td>\n",
       "      <td>0.723645</td>\n",
       "      <td>0.620137</td>\n",
       "      <td>13638.551828</td>\n",
       "      <td>3.603803</td>\n",
       "      <td>3.42537</td>\n",
       "      <td>3.88281</td>\n",
       "      <td>3.50323</td>\n",
       "      <td>0.248058</td>\n",
       "      <td>0.362409</td>\n",
       "      <td>...</td>\n",
       "      <td>976.266379</td>\n",
       "      <td>665705.859447</td>\n",
       "      <td>824.627711</td>\n",
       "      <td>1108.937886</td>\n",
       "      <td>85.997866</td>\n",
       "      <td>0.222957</td>\n",
       "      <td>0.499861</td>\n",
       "      <td>0.516171</td>\n",
       "      <td>0.472185</td>\n",
       "      <td>SHIP</td>\n",
       "    </tr>\n",
       "    <tr>\n",
       "      <th>181</th>\n",
       "      <td>0.820651</td>\n",
       "      <td>0.860715</td>\n",
       "      <td>0.591436</td>\n",
       "      <td>17756.528093</td>\n",
       "      <td>3.678903</td>\n",
       "      <td>3.64377</td>\n",
       "      <td>3.79037</td>\n",
       "      <td>3.60257</td>\n",
       "      <td>0.248584</td>\n",
       "      <td>0.351158</td>\n",
       "      <td>...</td>\n",
       "      <td>967.798643</td>\n",
       "      <td>702074.431075</td>\n",
       "      <td>790.234133</td>\n",
       "      <td>1090.030241</td>\n",
       "      <td>92.344735</td>\n",
       "      <td>0.223956</td>\n",
       "      <td>0.487787</td>\n",
       "      <td>0.504300</td>\n",
       "      <td>0.483482</td>\n",
       "      <td>SHIP</td>\n",
       "    </tr>\n",
       "    <tr>\n",
       "      <th>182</th>\n",
       "      <td>0.909250</td>\n",
       "      <td>0.981522</td>\n",
       "      <td>0.522229</td>\n",
       "      <td>13155.350010</td>\n",
       "      <td>3.840140</td>\n",
       "      <td>3.74400</td>\n",
       "      <td>4.04862</td>\n",
       "      <td>3.72780</td>\n",
       "      <td>0.257446</td>\n",
       "      <td>0.359746</td>\n",
       "      <td>...</td>\n",
       "      <td>962.119665</td>\n",
       "      <td>518277.406439</td>\n",
       "      <td>822.190041</td>\n",
       "      <td>1076.588722</td>\n",
       "      <td>76.992474</td>\n",
       "      <td>0.208140</td>\n",
       "      <td>0.506476</td>\n",
       "      <td>0.526348</td>\n",
       "      <td>0.454713</td>\n",
       "      <td>SHIP</td>\n",
       "    </tr>\n",
       "  </tbody>\n",
       "</table>\n",
       "<p>183 rows × 69 columns</p>\n",
       "</div>"
      ],
      "text/plain": [
       "          cjv       cnr       efc          fber  fwhm_avg   fwhm_x   fwhm_y  \\\n",
       "0    0.489250  2.732287  0.579359  14688.645257  3.726930  3.58919  3.97218   \n",
       "1    0.410418  3.376646  0.586394  33378.752649  3.594793  3.39952  3.90242   \n",
       "2    0.417318  3.329145  0.597023  60210.142545  3.703273  3.59519  3.96207   \n",
       "3    0.436022  3.148955  0.567828  43001.150452  3.418750  3.29147  3.71746   \n",
       "4    0.483053  2.862426  0.632164  19353.297357  3.756670  3.69458  3.94944   \n",
       "..        ...       ...       ...           ...       ...      ...      ...   \n",
       "178  1.071183  0.756806  0.513089  13223.535072  3.531503  3.36379  3.87357   \n",
       "179  0.949581  0.770895  0.590186   9357.126340  3.701913  3.57988  3.94455   \n",
       "180  1.135211  0.723645  0.620137  13638.551828  3.603803  3.42537  3.88281   \n",
       "181  0.820651  0.860715  0.591436  17756.528093  3.678903  3.64377  3.79037   \n",
       "182  0.909250  0.981522  0.522229  13155.350010  3.840140  3.74400  4.04862   \n",
       "\n",
       "      fwhm_z  icvs_csf   icvs_gm  ...  summary_wm_median   summary_wm_n  \\\n",
       "0    3.61942  0.276925  0.324761  ...        1000.134934  185258.000000   \n",
       "1    3.48244  0.183945  0.390542  ...        1000.058241  280061.000000   \n",
       "2    3.55256  0.188880  0.383136  ...        1000.086168  300476.000000   \n",
       "3    3.24732  0.198440  0.388336  ...        1000.077165  227734.000000   \n",
       "4    3.62599  0.279497  0.323268  ...        1000.103278  193360.000000   \n",
       "..       ...       ...       ...  ...                ...            ...   \n",
       "178  3.35715  0.253178  0.342339  ...         938.043566  543476.888780   \n",
       "179  3.58131  0.238270  0.337652  ...         969.531438  681362.703797   \n",
       "180  3.50323  0.248058  0.362409  ...         976.266379  665705.859447   \n",
       "181  3.60257  0.248584  0.351158  ...         967.798643  702074.431075   \n",
       "182  3.72780  0.257446  0.359746  ...         962.119665  518277.406439   \n",
       "\n",
       "     summary_wm_p05  summary_wm_p95  summary_wm_stdv  tpm_overlap_csf  \\\n",
       "0        924.807739     1101.936190        54.448439         0.171807   \n",
       "1        934.175681     1082.185815        45.223944         0.179215   \n",
       "2        935.074246     1080.726230        44.762158         0.179264   \n",
       "3        929.955451     1087.233951        48.068587         0.181540   \n",
       "4        918.812823     1098.299117        55.069951         0.164981   \n",
       "..              ...             ...              ...              ...   \n",
       "178      793.057316     1064.632432        82.741266         0.221584   \n",
       "179      816.917181     1104.197065        87.644512         0.219535   \n",
       "180      824.627711     1108.937886        85.997866         0.222957   \n",
       "181      790.234133     1090.030241        92.344735         0.223956   \n",
       "182      822.190041     1076.588722        76.992474         0.208140   \n",
       "\n",
       "     tpm_overlap_gm  tpm_overlap_wm    wm2max  site  \n",
       "0          0.373188        0.484403  0.487104  SHIP  \n",
       "1          0.448654        0.528051  0.585126  SHIP  \n",
       "2          0.444732        0.520380  0.569838  SHIP  \n",
       "3          0.445394        0.518943  0.648944  SHIP  \n",
       "4          0.377402        0.450177  0.477213  SHIP  \n",
       "..              ...             ...       ...   ...  \n",
       "178        0.472521        0.510402  0.417705  SHIP  \n",
       "179        0.455707        0.511997  0.473652  SHIP  \n",
       "180        0.499861        0.516171  0.472185  SHIP  \n",
       "181        0.487787        0.504300  0.483482  SHIP  \n",
       "182        0.506476        0.526348  0.454713  SHIP  \n",
       "\n",
       "[183 rows x 69 columns]"
      ]
     },
     "execution_count": 9,
     "metadata": {},
     "output_type": "execute_result"
    }
   ],
   "source": [
    "train_x"
   ]
  },
  {
   "cell_type": "markdown",
   "id": "b2c76905",
   "metadata": {},
   "source": [
    "## Cross-validation of the default classifier\n",
    "Let's cross-validate the performance of our classifier using a Leave-one-site-out strategy."
   ]
  },
  {
   "cell_type": "code",
   "execution_count": null,
   "id": "0143cda9",
   "metadata": {},
   "outputs": [],
   "source": [
    "# Define a splitting strategy\n",
    "outer_cv = split.LeavePSitesOut(1, robust=True)"
   ]
  },
  {
   "cell_type": "markdown",
   "id": "e992f5cc",
   "metadata": {},
   "source": [
    "We can now feed the model into the cross-validation loop:"
   ]
  },
  {
   "cell_type": "code",
   "execution_count": null,
   "id": "dd4b3803",
   "metadata": {},
   "outputs": [],
   "source": [
    "cv_score = cross_val_score(\n",
    "    init_pipeline(),\n",
    "    X=train_x,\n",
    "    y=train_y,\n",
    "    cv=5,\n",
    "    scoring=\"roc_auc\",\n",
    "    n_jobs=16,\n",
    ")"
   ]
  },
  {
   "cell_type": "markdown",
   "id": "6dc225b6",
   "metadata": {},
   "source": [
    "After one or two minutes, the scores have been caculated for each of the 14 folds our splitter created.\n",
    "The average performance is AUC=0.885."
   ]
  },
  {
   "cell_type": "code",
   "execution_count": null,
   "id": "46e6a884",
   "metadata": {},
   "outputs": [],
   "source": [
    "print(cv_score)\n",
    "cv_score.mean()"
   ]
  },
  {
   "cell_type": "code",
   "execution_count": null,
   "id": "905c67d6",
   "metadata": {},
   "outputs": [],
   "source": [
    "custom_cv_score = {}\n",
    "for train_index, (site, test_index) in outer_cv.split(train_x, y=train_y, return_key=True):\n",
    "    # Validate on test fold\n",
    "    print(f\"Validating on left-out site ({site})...\")\n",
    "    model_split = init_pipeline()\n",
    "    model_split = model_split.fit(train_x.iloc[train_index], train_y[train_index])\n",
    "    custom_cv_score[site] = auc(train_y[test_index], model_split.predict(train_x.iloc[test_index]))"
   ]
  },
  {
   "cell_type": "code",
   "execution_count": null,
   "id": "ddd3338d",
   "metadata": {},
   "outputs": [],
   "source": [
    "print(custom_cv_score)\n",
    "np.mean(list(custom_cv_score.values()))"
   ]
  },
  {
   "cell_type": "markdown",
   "id": "7622dc24",
   "metadata": {},
   "source": [
    "We now train the model on all available training data:"
   ]
  },
  {
   "cell_type": "code",
   "execution_count": 10,
   "id": "4f13bdbb",
   "metadata": {},
   "outputs": [],
   "source": [
    "model = init_pipeline().fit(\n",
    "    X=train_x,\n",
    "    y=train_y,\n",
    ")"
   ]
  },
  {
   "cell_type": "code",
   "execution_count": 11,
   "id": "2575d1f4",
   "metadata": {},
   "outputs": [
    {
     "data": {
      "text/plain": [
       "['/mnt/sda1/Repos/mriqc/mriqc-learn/mriqc-learn/mriqc_learn/data/classifier_N183_NoBrainIQMs.joblib']"
      ]
     },
     "execution_count": 11,
     "metadata": {},
     "output_type": "execute_result"
    }
   ],
   "source": [
    "from joblib import dump\n",
    "dump(model, \"/mnt/sda1/Repos/mriqc/mriqc-learn/mriqc-learn/mriqc_learn/data/classifier_N183_NoBrainIQMs.joblib\")"
   ]
  },
  {
   "cell_type": "markdown",
   "id": "f42ac340",
   "metadata": {},
   "source": [
    "We can easily see the effects of overfitting by evaluating the classifier on the same folds we used for cross-validation."
   ]
  },
  {
   "cell_type": "code",
   "execution_count": null,
   "id": "42a2e8ce",
   "metadata": {},
   "outputs": [],
   "source": [
    "overfit_cv_score = {}\n",
    "for train_index, (site, test_index) in outer_cv.split(train_x, y=train_y, return_key=True):\n",
    "    print(f\"Validating on left-out site ({site})...\")\n",
    "    overfit_cv_score[site] = auc(train_y[test_index], model.predict(train_x.iloc[test_index]))"
   ]
  },
  {
   "cell_type": "code",
   "execution_count": null,
   "id": "630f12b9",
   "metadata": {},
   "outputs": [],
   "source": [
    "print([overfit_cv_score[s] - custom_cv_score[s] for s in overfit_cv_score.keys()])"
   ]
  },
  {
   "cell_type": "code",
   "execution_count": null,
   "id": "03df2097",
   "metadata": {},
   "outputs": [],
   "source": [
    "from sklearn.metrics import classification_report\n",
    "\n",
    "print(classification_report(train_y, model.predict(train_x)))"
   ]
  },
  {
   "cell_type": "markdown",
   "id": "e6f4292f",
   "metadata": {},
   "source": [
    "## Evaluating on held-out dataset\n",
    "We first load the held-out dataset in, and evaluate:"
   ]
  },
  {
   "cell_type": "code",
   "execution_count": null,
   "id": "9bcd5214",
   "metadata": {},
   "outputs": [],
   "source": [
    "(test_x, test_y), (_, _) = load_dataset(\"ds030\", split_strategy=\"none\")\n",
    "test_x[\"site\"] = test_y.site\n",
    "test_x"
   ]
  },
  {
   "cell_type": "code",
   "execution_count": null,
   "id": "82ac03b4",
   "metadata": {},
   "outputs": [],
   "source": [
    "has_ghost = test_y.has_ghost.values.astype(bool)\n",
    "test_y = test_y[[\"rater_1\"]].values.squeeze().astype(int)\n",
    "print(f\"Discard={100 * (test_y == -1).sum() / len(test_y)}\")\n",
    "print(f\"Doubtful={100 * (test_y == 0).sum() / len(test_y)}\")\n",
    "print(f\"Accept={100 * (test_y == 1).sum() / len(test_y)}\")\n",
    "test_y[test_y < 1] = 0"
   ]
  },
  {
   "cell_type": "code",
   "execution_count": null,
   "id": "5abd877a",
   "metadata": {},
   "outputs": [],
   "source": [
    "auc(test_y, model.predict(test_x))"
   ]
  },
  {
   "cell_type": "code",
   "execution_count": null,
   "id": "33792116",
   "metadata": {},
   "outputs": [],
   "source": [
    "auc(test_y[~has_ghost], model.predict(test_x[~has_ghost]))"
   ]
  },
  {
   "cell_type": "code",
   "execution_count": null,
   "id": "b2d2b97f",
   "metadata": {},
   "outputs": [],
   "source": [
    "print(classification_report(test_y, model.predict(test_x)))"
   ]
  },
  {
   "cell_type": "code",
   "execution_count": null,
   "id": "29fc6c11",
   "metadata": {},
   "outputs": [],
   "source": [
    "print(classification_report(test_y[~has_ghost], model.predict(test_x[~has_ghost])))"
   ]
  },
  {
   "cell_type": "markdown",
   "id": "9cded3e3",
   "metadata": {},
   "source": [
    "## Nested cross-validation"
   ]
  },
  {
   "cell_type": "code",
   "execution_count": null,
   "id": "46e57e0e",
   "metadata": {},
   "outputs": [],
   "source": [
    "p_grid = [{\n",
    "    \"scale__unit_variance\": [True, False],\n",
    "    \"scale__with_centering\": [True, False],\n",
    "    \"site_pred__disable\": [False, True],\n",
    "    \"winnow__disable\": [False, True],\n",
    "    \"svc__kernel\": [\"rbf\"],\n",
    "    \"svc__C\": [10],\n",
    "    \"svc__gamma\": [0.1],\n",
    "}]"
   ]
  },
  {
   "cell_type": "code",
   "execution_count": null,
   "id": "fcf4caf7",
   "metadata": {},
   "outputs": [],
   "source": [
    "# Nested CV with parameter optimization\n",
    "inner_cv = split.LeavePSitesOut(1, robust=True)\n",
    "inner_cv.get_n_splits(X=train_x, y=train_y)\n",
    "\n",
    "clf = GridSearchCV(\n",
    "    estimator=pipe,\n",
    "    param_grid=p_grid,\n",
    "    cv=inner_cv,\n",
    "    n_jobs=30,\n",
    "    scoring=\"roc_auc\",\n",
    ")\n",
    "# clf.fit(train_x, y=train_y)"
   ]
  },
  {
   "cell_type": "code",
   "execution_count": null,
   "id": "f3d007f8",
   "metadata": {},
   "outputs": [],
   "source": [
    "nested_score = cross_val_score(\n",
    "    clf,\n",
    "    X=train_x,\n",
    "    y=train_y,\n",
    "    cv=outer_cv,\n",
    "    scoring=\"roc_auc\",\n",
    "    verbose=10,\n",
    "    n_jobs=16,\n",
    ")\n",
    "nested_score.mean()"
   ]
  },
  {
   "cell_type": "code",
   "execution_count": null,
   "id": "d503cf24",
   "metadata": {},
   "outputs": [],
   "source": [
    "clf.cv_results_"
   ]
  },
  {
   "cell_type": "code",
   "execution_count": null,
   "id": "2377983c",
   "metadata": {},
   "outputs": [],
   "source": [
    "clf.best_params_"
   ]
  }
 ],
 "metadata": {
  "kernelspec": {
   "display_name": "Python 3 (ipykernel)",
   "language": "python",
   "name": "python3"
  },
  "language_info": {
   "codemirror_mode": {
    "name": "ipython",
    "version": 3
   },
   "file_extension": ".py",
   "mimetype": "text/x-python",
   "name": "python",
   "nbconvert_exporter": "python",
   "pygments_lexer": "ipython3",
   "version": "3.8.13"
  }
 },
 "nbformat": 4,
 "nbformat_minor": 5
}

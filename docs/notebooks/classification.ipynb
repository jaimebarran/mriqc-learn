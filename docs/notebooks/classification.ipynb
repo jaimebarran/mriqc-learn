{
 "cells": [
  {
   "cell_type": "code",
   "execution_count": 1,
   "metadata": {},
   "outputs": [
    {
     "name": "stdout",
     "output_type": "stream",
     "text": [
      "Excluded=73.22404371584699\n",
      "Accept=26.775956284153004\n"
     ]
    }
   ],
   "source": [
    "from mriqc_learn.datasets import load_dataset\n",
    "\n",
    "(train_x, train_y), (_, _) = load_dataset(dataset=\"SHIP183\", split_strategy=\"none\")\n",
    "train_x[\"site\"] = train_y.site\n",
    "\n",
    "train_y = train_y[[\"rating\"]].values.squeeze().astype(int)\n",
    "print(f'Excluded={100 * (train_y < 1).sum() / len(train_y)}')\n",
    "print(f'Accept={100 * (train_y >= 1).sum() / len(train_y)}')\n",
    "train_y[train_y >= 1] = 1"
   ]
  },
  {
   "cell_type": "markdown",
   "metadata": {},
   "source": [
    "Load model "
   ]
  },
  {
   "cell_type": "code",
   "execution_count": 2,
   "metadata": {},
   "outputs": [],
   "source": [
    "from joblib import load\n",
    "\n",
    "# Load the trained model\n",
    "model = load(\"/mnt/sda1/Repos/mriqc/mriqc-learn/mriqc-learn/mriqc_learn/data/classifier2.joblib\")"
   ]
  },
  {
   "cell_type": "markdown",
   "metadata": {},
   "source": [
    "Load dataset"
   ]
  },
  {
   "cell_type": "code",
   "execution_count": 3,
   "metadata": {},
   "outputs": [],
   "source": [
    "import pandas as pd\n",
    "\n",
    "# Load the new dataset\n",
    "ds_aux = pd.read_csv(\"/mnt/sda1/Repos/mriqc/mriqc-learn/mriqc-learn/mriqc_learn/datasets/SHIP1210.tsv\", sep=\"\\t\")\n",
    "# ds from the 3rd column\n",
    "ds = ds_aux.iloc[:, 1:] # 2 if dataset contains ratings, 1 if not\n",
    "# move first column to the last\n",
    "ds = ds[[c for c in ds if c not in [\"site\"]] + [\"site\"]]"
   ]
  },
  {
   "cell_type": "markdown",
   "metadata": {},
   "source": [
    "Preprocessing"
   ]
  },
  {
   "cell_type": "code",
   "execution_count": 4,
   "metadata": {},
   "outputs": [],
   "source": [
    "from sklearn.pipeline import Pipeline\n",
    "from sklearn.ensemble import RandomForestClassifier as RFC\n",
    "from mriqc_learn.models import preprocess as pp\n",
    "\n",
    "# Preprocess the new dataset\n",
    "preprocessor = Pipeline(\n",
    "    [\n",
    "        # (\n",
    "        #     \"drop_ft\",\n",
    "        #     pp.DropColumns(\n",
    "        #         drop=[f\"size_{ax}\" for ax in \"xyz\"] + [f\"spacing_{ax}\" for ax in \"xyz\"]\n",
    "        #     ),\n",
    "        # ),\n",
    "        (\n",
    "            \"scale\",\n",
    "            pp.SiteRobustScaler(\n",
    "                with_centering=True,\n",
    "                with_scaling=True,\n",
    "            ),\n",
    "        ),\n",
    "        (\"site_pred\", pp.SiteCorrelationSelector()),\n",
    "        # (\"winnow\", pp.NoiseWinnowFeatSelect(use_classifier=True)),\n",
    "        # (\"drop_site\", pp.DropColumns(drop=[\"site\"])),\n",
    "        # (\n",
    "        #     \"rfc\",\n",
    "        #     RFC(\n",
    "        #         bootstrap=True,\n",
    "        #         class_weight=None,\n",
    "        #         criterion=\"gini\",\n",
    "        #         max_depth=10,\n",
    "        #         max_features=\"sqrt\",\n",
    "        #         max_leaf_nodes=None,\n",
    "        #         min_impurity_decrease=0.0,\n",
    "        #         min_samples_leaf=10,\n",
    "        #         min_samples_split=10,\n",
    "        #         min_weight_fraction_leaf=0.0,\n",
    "        #         n_estimators=400,\n",
    "        #         oob_score=True,\n",
    "        #     ),\n",
    "        # ),\n",
    "    ]\n",
    ")\n",
    "\n",
    "ds_processed = preprocessor.fit_transform(ds)"
   ]
  },
  {
   "cell_type": "markdown",
   "metadata": {},
   "source": [
    "## Predict"
   ]
  },
  {
   "cell_type": "markdown",
   "metadata": {},
   "source": [
    "Predict model.fit (th=0.5)"
   ]
  },
  {
   "cell_type": "code",
   "execution_count": 17,
   "metadata": {},
   "outputs": [],
   "source": [
    "# Predict the classes of the new dataset\n",
    "y_pred = model.predict(ds)"
   ]
  },
  {
   "cell_type": "code",
   "execution_count": 18,
   "metadata": {},
   "outputs": [],
   "source": [
    "# add the index of the excluded ones to a list\n",
    "excluded = []\n",
    "for i, x in enumerate(y_pred):\n",
    "    if x == 0: # 0 is excluded\n",
    "        excluded.append(i)"
   ]
  },
  {
   "cell_type": "markdown",
   "metadata": {},
   "source": [
    "Predict mode.predict_proba (th)"
   ]
  },
  {
   "cell_type": "code",
   "execution_count": 5,
   "metadata": {},
   "outputs": [],
   "source": [
    "y_scores = model.predict_proba(ds)[:, 0] # 0 for excluded according to the model training"
   ]
  },
  {
   "cell_type": "code",
   "execution_count": 6,
   "metadata": {},
   "outputs": [
    {
     "name": "stdout",
     "output_type": "stream",
     "text": [
      "40\n"
     ]
    }
   ],
   "source": [
    "# how many values > 0.5 from y_scores\n",
    "threshold = 0.45\n",
    "count = (y_scores > threshold).sum()\n",
    "print(count)"
   ]
  },
  {
   "cell_type": "code",
   "execution_count": 7,
   "metadata": {},
   "outputs": [],
   "source": [
    "# indices of values > threshold from y_scores\n",
    "y_pred_idx = (y_scores > threshold).nonzero()[0]"
   ]
  },
  {
   "cell_type": "code",
   "execution_count": 22,
   "metadata": {},
   "outputs": [],
   "source": [
    "# add the index of the excluded ones to a list\n",
    "excluded = []\n",
    "for i, x in enumerate(y_scores):\n",
    "    if x > threshold:\n",
    "        excluded.append(i)"
   ]
  },
  {
   "cell_type": "markdown",
   "metadata": {},
   "source": [
    "## Excluded subjects"
   ]
  },
  {
   "cell_type": "code",
   "execution_count": 23,
   "metadata": {},
   "outputs": [],
   "source": [
    "# \"bids_name\" of the indeces in \"excluded\" in \"ds_aux\"\n",
    "excluded_bids = [] # bids names\n",
    "for i in excluded:\n",
    "    excluded_bids.append(ds_aux.iloc[i, 0])"
   ]
  },
  {
   "cell_type": "markdown",
   "metadata": {},
   "source": [
    "Eye reports names of the excluded subjects"
   ]
  },
  {
   "cell_type": "code",
   "execution_count": 24,
   "metadata": {},
   "outputs": [],
   "source": [
    "bids_csv = pd.read_csv(\"/home/jaimebarranco/Desktop/MRI-QC/fetal/fetalqc_non-labeled-dataset/bids_csv.csv\")\n",
    "# reports name of the indeces in \"excluded\" in \"df_ls\"\n",
    "excluded_names = [] # reports names\n",
    "for name in excluded_bids:\n",
    "    name = name.split('-')[1].split('_')[0]\n",
    "    sub = int(name)\n",
    "    # index of bids_csv where the column 'sub' matches 'sub'\n",
    "    index = bids_csv.index[bids_csv['sub'] == sub]\n",
    "    # value of the column 'name' of a specific index\n",
    "    report = bids_csv.iloc[index]['name'].values[0]\n",
    "    excluded_names.append(report)"
   ]
  },
  {
   "cell_type": "code",
   "execution_count": 25,
   "metadata": {},
   "outputs": [
    {
     "name": "stdout",
     "output_type": "stream",
     "text": [
      "Excluded subjects: 40/1210\n",
      "       bids_name       name\n",
      "0    sub-001_T1w  sub-APUKS\n",
      "1    sub-037_T1w  sub-VCVZH\n",
      "2    sub-053_T1w  sub-XKICG\n",
      "3    sub-096_T1w  sub-HMEFJ\n",
      "4   sub-1078_T1w  sub-DGECA\n",
      "5    sub-108_T1w  sub-EQKHT\n",
      "6   sub-1105_T1w  sub-JSOOZ\n",
      "7   sub-1130_T1w  sub-GDWSJ\n",
      "8   sub-1144_T1w  sub-LPXED\n",
      "9   sub-1156_T1w  sub-ZSLLA\n",
      "10  sub-1171_T1w  sub-XFRWS\n",
      "11  sub-1183_T1w  sub-MYHXL\n",
      "12   sub-126_T1w  sub-JASYK\n",
      "13   sub-132_T1w  sub-EPUIZ\n",
      "14   sub-137_T1w  sub-UBIBB\n",
      "15   sub-141_T1w  sub-IFMPW\n",
      "16   sub-150_T1w  sub-GIHHF\n",
      "17   sub-167_T1w  sub-FXFHX\n",
      "18   sub-206_T1w  sub-UTSYQ\n",
      "19   sub-275_T1w  sub-INDZM\n",
      "20   sub-299_T1w  sub-MMFOS\n",
      "21   sub-326_T1w  sub-WRQIQ\n",
      "22   sub-342_T1w  sub-XIGDR\n",
      "23   sub-363_T1w  sub-MHRGQ\n",
      "24   sub-389_T1w  sub-GSNPW\n",
      "25   sub-394_T1w  sub-VNVWN\n",
      "26   sub-439_T1w  sub-ZEYHM\n",
      "27   sub-451_T1w  sub-LYRAA\n",
      "28   sub-484_T1w  sub-SFVHB\n",
      "29   sub-551_T1w  sub-UDSBS\n",
      "30   sub-641_T1w  sub-RMSIX\n",
      "31   sub-665_T1w  sub-ZSFPW\n",
      "32   sub-687_T1w  sub-OPBWJ\n",
      "33   sub-690_T1w  sub-PMJIC\n",
      "34   sub-707_T1w  sub-MUOHS\n",
      "35   sub-720_T1w  sub-XAPIO\n",
      "36   sub-727_T1w  sub-KRZDQ\n",
      "37   sub-772_T1w  sub-OJULJ\n",
      "38   sub-898_T1w  sub-WXSQP\n",
      "39   sub-938_T1w  sub-MIFZE\n"
     ]
    }
   ],
   "source": [
    "df_excluded = pd.DataFrame({'bids_name': excluded_bids, 'name': excluded_names})\n",
    "print(f\"Excluded subjects: {len(df_excluded)}/{len(y_pred)}\")\n",
    "print(df_excluded)"
   ]
  },
  {
   "cell_type": "markdown",
   "metadata": {},
   "source": [
    "Copy subjects' reports to a folder"
   ]
  },
  {
   "cell_type": "code",
   "execution_count": 15,
   "metadata": {},
   "outputs": [],
   "source": [
    "import os, shutil\n",
    "\n",
    "reports_folder = '/home/jaimebarranco/Desktop/MRI-QC/fetal/fetalqc_non-labeled-dataset'\n",
    "output_folder = '/home/jaimebarranco/Downloads/excluded_mriqclearn_th045'\n",
    "if not os.path.exists(output_folder):\n",
    "    os.makedirs(output_folder)\n",
    "\n",
    "# copy html reports from reports_folder that match the subjects in excluded dataframe to output_folder\n",
    "for i in range(len(excluded)):\n",
    "    subject = df_excluded['name'].values[i]\n",
    "    for filename in os.listdir(reports_folder):\n",
    "        if filename.startswith(f'{subject}_report'):\n",
    "            shutil.copy(f'{reports_folder}/{filename}', f'{output_folder}/{filename}')"
   ]
  },
  {
   "cell_type": "markdown",
   "metadata": {},
   "source": [
    "Compare excluded subjects"
   ]
  },
  {
   "cell_type": "code",
   "execution_count": 16,
   "metadata": {},
   "outputs": [
    {
     "name": "stdout",
     "output_type": "stream",
     "text": [
      "sub-APUKS_report.html is in both folders\n",
      "sub-DGECA_report.html is in both folders\n",
      "sub-JASYK_report.html is in both folders\n",
      "sub-XKICG_report.html is in both folders\n",
      "sub-KRZDQ_report.html is in both folders\n",
      "sub-JSOOZ_report.html is in both folders\n",
      "sub-WRQIQ_report.html is in both folders\n",
      "sub-GDWSJ_report.html is in both folders\n",
      "sub-IFMPW_report.html is in both folders\n",
      "sub-GIHHF_report.html is in both folders\n",
      "sub-UBIBB_report.html is in both folders\n",
      "sub-SFVHB_report.html is in both folders\n",
      "sub-LPXED_report.html is in both folders\n",
      "sub-ZSLLA_report.html is in both folders\n",
      "sub-LYRAA_report.html is in both folders\n",
      "sub-UDSBS_report.html is in both folders\n",
      "sub-OPBWJ_report.html is in both folders\n",
      "sub-WXSQP_report.html is in both folders\n",
      "sub-MHRGQ_report.html is in both folders\n",
      "sub-XIGDR_report.html is in both folders\n",
      "sub-OJULJ_report.html is in both folders\n",
      "sub-HMEFJ_report.html is in both folders\n",
      "sub-EQKHT_report.html is in both folders\n",
      "sub-MYHXL_report.html is in both folders\n",
      "sub-XFRWS_report.html is in both folders\n",
      "sub-VNVWN_report.html is in both folders\n",
      "sub-INDZM_report.html is in both folders\n",
      "sub-MMFOS_report.html is in both folders\n",
      "sub-MUOHS_report.html is in both folders\n",
      "\n",
      "29/29 html reports are in both folders\n"
     ]
    }
   ],
   "source": [
    "folder1 = '/home/jaimebarranco/Downloads/excluded_mriqclearn2'\n",
    "folder2 = '/home/jaimebarranco/Downloads/excluded_mriqclearn_th045'\n",
    "\n",
    "# number of files in folders\n",
    "num_files_folder1 = len(os.listdir(folder1))\n",
    "num_files_folder2 = len(os.listdir(folder2))\n",
    "\n",
    "# compare the html reports in folder1 and folder\n",
    "count = 0\n",
    "if num_files_folder1 <= num_files_folder2: # folder with less files to do the loop with\n",
    "    for filename in os.listdir(folder1):\n",
    "        if filename in os.listdir(folder2):\n",
    "            print(f'{filename} is in both folders')\n",
    "            count += 1\n",
    "        else:\n",
    "            print(f'{filename} is only in folder1')\n",
    "    print(f'\\n{count}/{len(os.listdir(folder1))} html reports are in both folders')\n",
    "else:\n",
    "    for filename in os.listdir(folder2):\n",
    "        if filename in os.listdir(folder1):\n",
    "            print(f'{filename} is in both folders')\n",
    "            count += 1\n",
    "        else:\n",
    "            print(f'{filename} is only in folder1')\n",
    "    print(f'\\n{count}/{len(os.listdir(folder2))} html reports are in both folders')\n"
   ]
  }
 ],
 "metadata": {
  "kernelspec": {
   "display_name": "a-eye",
   "language": "python",
   "name": "python3"
  },
  "language_info": {
   "codemirror_mode": {
    "name": "ipython",
    "version": 3
   },
   "file_extension": ".py",
   "mimetype": "text/x-python",
   "name": "python",
   "nbconvert_exporter": "python",
   "pygments_lexer": "ipython3",
   "version": "3.8.13"
  }
 },
 "nbformat": 4,
 "nbformat_minor": 2
}

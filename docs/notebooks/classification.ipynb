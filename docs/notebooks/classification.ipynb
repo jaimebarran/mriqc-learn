{
 "cells": [
  {
   "cell_type": "code",
   "execution_count": null,
   "metadata": {},
   "outputs": [],
   "source": [
    "from mriqc_learn.datasets import load_dataset\n",
    "\n",
    "(train_x, train_y), (_, _) = load_dataset(dataset=\"SHIP183\", split_strategy=\"none\")\n",
    "train_x[\"site\"] = train_y.site\n",
    "\n",
    "train_y = train_y[[\"rating\"]].values.squeeze().astype(int)\n",
    "print(f'Excluded={100 * (train_y < 1).sum() / len(train_y)}')\n",
    "print(f'Accept={100 * (train_y >= 1).sum() / len(train_y)}')\n",
    "train_y[train_y >= 1] = 1"
   ]
  },
  {
   "cell_type": "code",
   "execution_count": 2,
   "metadata": {},
   "outputs": [
    {
     "ename": "TypeError",
     "evalue": "expected str, bytes or os.PathLike object, not NoneType",
     "output_type": "error",
     "traceback": [
      "\u001b[0;31m---------------------------------------------------------------------------\u001b[0m",
      "\u001b[0;31mTypeError\u001b[0m                                 Traceback (most recent call last)",
      "\u001b[1;32m/mnt/sda1/Repos/mriqc/mriqc-learn/mriqc-learn/docs/notebooks/classification.ipynb Cell 2\u001b[0m line \u001b[0;36m<cell line: 8>\u001b[0;34m()\u001b[0m\n\u001b[1;32m      <a href='vscode-notebook-cell:/mnt/sda1/Repos/mriqc/mriqc-learn/mriqc-learn/docs/notebooks/classification.ipynb#W0sZmlsZQ%3D%3D?line=4'>5</a>\u001b[0m \u001b[39mimport\u001b[39;00m \u001b[39mpandas\u001b[39;00m \u001b[39mas\u001b[39;00m \u001b[39mpd\u001b[39;00m\n\u001b[1;32m      <a href='vscode-notebook-cell:/mnt/sda1/Repos/mriqc/mriqc-learn/mriqc-learn/docs/notebooks/classification.ipynb#W0sZmlsZQ%3D%3D?line=6'>7</a>\u001b[0m \u001b[39m# Load the trained model\u001b[39;00m\n\u001b[0;32m----> <a href='vscode-notebook-cell:/mnt/sda1/Repos/mriqc/mriqc-learn/mriqc-learn/docs/notebooks/classification.ipynb#W0sZmlsZQ%3D%3D?line=7'>8</a>\u001b[0m model \u001b[39m=\u001b[39m load(pkgrf(\u001b[39m\"\u001b[39;49m\u001b[39mmriqc_learn.data\u001b[39;49m\u001b[39m\"\u001b[39;49m, \u001b[39m\"\u001b[39;49m\u001b[39mclassifier.joblib\u001b[39;49m\u001b[39m\"\u001b[39;49m))\n",
      "File \u001b[0;32m~/miniconda3/envs/a-eye/lib/python3.8/site-packages/pkg_resources/__init__.py:1154\u001b[0m, in \u001b[0;36mResourceManager.resource_filename\u001b[0;34m(self, package_or_requirement, resource_name)\u001b[0m\n\u001b[1;32m   1152\u001b[0m \u001b[39mdef\u001b[39;00m \u001b[39mresource_filename\u001b[39m(\u001b[39mself\u001b[39m, package_or_requirement, resource_name):\n\u001b[1;32m   1153\u001b[0m     \u001b[39m\"\"\"Return a true filesystem path for specified resource\"\"\"\u001b[39;00m\n\u001b[0;32m-> 1154\u001b[0m     \u001b[39mreturn\u001b[39;00m get_provider(package_or_requirement)\u001b[39m.\u001b[39mget_resource_filename(\n\u001b[1;32m   1155\u001b[0m         \u001b[39mself\u001b[39m, resource_name\n\u001b[1;32m   1156\u001b[0m     )\n",
      "File \u001b[0;32m~/miniconda3/envs/a-eye/lib/python3.8/site-packages/pkg_resources/__init__.py:361\u001b[0m, in \u001b[0;36mget_provider\u001b[0;34m(moduleOrReq)\u001b[0m\n\u001b[1;32m    359\u001b[0m     module \u001b[39m=\u001b[39m sys\u001b[39m.\u001b[39mmodules[moduleOrReq]\n\u001b[1;32m    360\u001b[0m loader \u001b[39m=\u001b[39m \u001b[39mgetattr\u001b[39m(module, \u001b[39m'\u001b[39m\u001b[39m__loader__\u001b[39m\u001b[39m'\u001b[39m, \u001b[39mNone\u001b[39;00m)\n\u001b[0;32m--> 361\u001b[0m \u001b[39mreturn\u001b[39;00m _find_adapter(_provider_factories, loader)(module)\n",
      "File \u001b[0;32m~/miniconda3/envs/a-eye/lib/python3.8/site-packages/pkg_resources/__init__.py:1403\u001b[0m, in \u001b[0;36mNullProvider.__init__\u001b[0;34m(self, module)\u001b[0m\n\u001b[1;32m   1401\u001b[0m \u001b[39mdef\u001b[39;00m \u001b[39m__init__\u001b[39m(\u001b[39mself\u001b[39m, module):\n\u001b[1;32m   1402\u001b[0m     \u001b[39mself\u001b[39m\u001b[39m.\u001b[39mloader \u001b[39m=\u001b[39m \u001b[39mgetattr\u001b[39m(module, \u001b[39m'\u001b[39m\u001b[39m__loader__\u001b[39m\u001b[39m'\u001b[39m, \u001b[39mNone\u001b[39;00m)\n\u001b[0;32m-> 1403\u001b[0m     \u001b[39mself\u001b[39m\u001b[39m.\u001b[39mmodule_path \u001b[39m=\u001b[39m os\u001b[39m.\u001b[39;49mpath\u001b[39m.\u001b[39;49mdirname(\u001b[39mgetattr\u001b[39;49m(module, \u001b[39m'\u001b[39;49m\u001b[39m__file__\u001b[39;49m\u001b[39m'\u001b[39;49m, \u001b[39m'\u001b[39;49m\u001b[39m'\u001b[39;49m))\n",
      "File \u001b[0;32m~/miniconda3/envs/a-eye/lib/python3.8/posixpath.py:152\u001b[0m, in \u001b[0;36mdirname\u001b[0;34m(p)\u001b[0m\n\u001b[1;32m    150\u001b[0m \u001b[39mdef\u001b[39;00m \u001b[39mdirname\u001b[39m(p):\n\u001b[1;32m    151\u001b[0m     \u001b[39m\"\"\"Returns the directory component of a pathname\"\"\"\u001b[39;00m\n\u001b[0;32m--> 152\u001b[0m     p \u001b[39m=\u001b[39m os\u001b[39m.\u001b[39;49mfspath(p)\n\u001b[1;32m    153\u001b[0m     sep \u001b[39m=\u001b[39m _get_sep(p)\n\u001b[1;32m    154\u001b[0m     i \u001b[39m=\u001b[39m p\u001b[39m.\u001b[39mrfind(sep) \u001b[39m+\u001b[39m \u001b[39m1\u001b[39m\n",
      "\u001b[0;31mTypeError\u001b[0m: expected str, bytes or os.PathLike object, not NoneType"
     ]
    }
   ],
   "source": [
    "from pkg_resources import resource_filename as pkgrf\n",
    "from joblib import load\n",
    "from mriqc_learn.models import preprocess as pp\n",
    "from sklearn.pipeline import Pipeline\n",
    "import pandas as pd\n",
    "\n",
    "# Load the trained model\n",
    "model = load(pkgrf(\"mriqc_learn.data\", \"classifier.joblib\"))\n"
   ]
  },
  {
   "cell_type": "code",
   "execution_count": null,
   "metadata": {},
   "outputs": [],
   "source": [
    "\n",
    "# load the new dataset\n",
    "X_new = pd.read_csv(\n",
    "    pkgrf(\"mriqc_learn.data\", \"SHIP183.tsv\"),\n",
    "    sep=\"\\t\",\n",
    "    index_col=0,\n",
    ")\n",
    "\n",
    "# Load the new dataset\n",
    "# X_new = pd.read_csv(\"mriqc_learn.datasets\", \"SHIP183\", sep='\\t')\n",
    "\n",
    "# Preprocess the new dataset\n",
    "preprocessor = Pipeline(\n",
    "    [\n",
    "        (\n",
    "            \"drop_ft\",\n",
    "            pp.DropColumns(\n",
    "                drop=[f\"size_{ax}\" for ax in \"xyz\"] + [f\"spacing_{ax}\" for ax in \"xyz\"]\n",
    "            ),\n",
    "        ),\n",
    "        (\n",
    "            \"scale\",\n",
    "            pp.SiteRobustScaler(\n",
    "                with_centering=True,\n",
    "                with_scaling=True,\n",
    "            ),\n",
    "        ),\n",
    "    ]\n",
    ")\n",
    "X_new_processed = preprocessor.fit_transform(X_new)\n",
    "\n",
    "# Predict the classes of the new dataset\n",
    "y_pred = model.predict(X_new_processed)"
   ]
  }
 ],
 "metadata": {
  "kernelspec": {
   "display_name": "a-eye",
   "language": "python",
   "name": "python3"
  },
  "language_info": {
   "codemirror_mode": {
    "name": "ipython",
    "version": 3
   },
   "file_extension": ".py",
   "mimetype": "text/x-python",
   "name": "python",
   "nbconvert_exporter": "python",
   "pygments_lexer": "ipython3",
   "version": "3.8.13"
  }
 },
 "nbformat": 4,
 "nbformat_minor": 2
}

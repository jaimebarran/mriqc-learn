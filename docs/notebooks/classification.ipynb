{
 "cells": [
  {
   "cell_type": "markdown",
   "metadata": {},
   "source": [
    "Load model "
   ]
  },
  {
   "cell_type": "code",
   "execution_count": 1,
   "metadata": {},
   "outputs": [],
   "source": [
    "from joblib import load\n",
    "\n",
    "# Load the trained model\n",
    "model = load(\"/mnt/sda1/Repos/mriqc/mriqc-learn/mriqc-learn/mriqc_learn/data/classifier_N183_NoBrainIQMs.joblib\")"
   ]
  },
  {
   "cell_type": "markdown",
   "metadata": {},
   "source": [
    "Load dataset"
   ]
  },
  {
   "cell_type": "code",
   "execution_count": 2,
   "metadata": {},
   "outputs": [],
   "source": [
    "import pandas as pd\n",
    "\n",
    "# Load the new dataset\n",
    "ds_aux = pd.read_csv(\"/mnt/sda1/Repos/mriqc/mriqc-learn/mriqc-learn/mriqc_learn/datasets/SHIP1027.tsv\", sep=\"\\t\")\n",
    "# ds from the 3rd column\n",
    "ds = ds_aux.iloc[:, 1:] # 2 if dataset contains ratings, 1 if not\n",
    "# move first column to the last\n",
    "ds = ds[[c for c in ds if c not in [\"site\"]] + [\"site\"]]"
   ]
  },
  {
   "cell_type": "markdown",
   "metadata": {},
   "source": [
    "Excluded subjects from ds_aux"
   ]
  },
  {
   "cell_type": "code",
   "execution_count": null,
   "metadata": {},
   "outputs": [],
   "source": [
    "# add subjects whose 'rating' are 1 from 'ds_aux' to a list\n",
    "# excluded_dsaux = ds_aux.loc[ds_aux['rating'] == 1, 'bids_name'].tolist()\n",
    "# print(\"Excluded subjects: \", len(excluded_dsaux))\n",
    "# print(excluded_dsaux)"
   ]
  },
  {
   "cell_type": "markdown",
   "metadata": {},
   "source": [
    "Preprocessing"
   ]
  },
  {
   "cell_type": "code",
   "execution_count": null,
   "metadata": {},
   "outputs": [],
   "source": [
    "from sklearn.pipeline import Pipeline\n",
    "from sklearn.ensemble import RandomForestClassifier as RFC\n",
    "from mriqc_learn.models import preprocess as pp\n",
    "\n",
    "# Preprocess the new dataset\n",
    "preprocessor = Pipeline(\n",
    "    [\n",
    "        (\n",
    "            \"drop_ft\",\n",
    "            pp.DropColumns(\n",
    "                drop=[f\"size_{ax}\" for ax in \"xyz\"] + [f\"spacing_{ax}\" for ax in \"xyz\"]\n",
    "            ),\n",
    "        ),\n",
    "        (\n",
    "            \"scale\",\n",
    "            pp.SiteRobustScaler(\n",
    "                with_centering=True,\n",
    "                with_scaling=True,\n",
    "            ),\n",
    "        ),\n",
    "        (\n",
    "            \"drop_brainIQMs\",\n",
    "            pp.DropColumns(\n",
    "                drop=[\n",
    "                    \"cjv\",\n",
    "                    \"cnr\",\n",
    "                    # \"efc\",\n",
    "                    # \"fber\",\n",
    "                    # \"fwhm_avg\",\n",
    "                    # \"fwhm_x\",\n",
    "                    # \"fwhm_y\",\n",
    "                    # \"fwhm_z\",\n",
    "                    \"icvs_csf\",\n",
    "                    \"icvs_gm\",\n",
    "                    \"icvs_wm\",\n",
    "                    # \"inu_med\",\n",
    "                    # \"inu_range\",\n",
    "                    \"qi_1\",\n",
    "                    # \"qi_2\",\n",
    "                    \"rpve_csf\",\n",
    "                    \"rpve_gm\",\n",
    "                    \"rpve_wm\",\n",
    "                    \"snr_csf\",\n",
    "                    \"snr_gm\",\n",
    "                    \"snr_total\",\n",
    "                    \"snr_wm\",\n",
    "                    \"snrd_csf\",\n",
    "                    \"snrd_gm\",\n",
    "                    # \"snrd_total\",\n",
    "                    \"snrd_wm\",\n",
    "                    \"summary_bg_k\",\n",
    "                    \"summary_bg_mad\",\n",
    "                    \"summary_bg_mean\",\n",
    "                    \"summary_bg_median\",\n",
    "                    \"summary_bg_n\",\n",
    "                    \"summary_bg_p05\",\n",
    "                    \"summary_bg_p95\",\n",
    "                    \"summary_bg_stdv\",\n",
    "                    \"summary_csf_k\",\n",
    "                    \"summary_csf_mad\",\n",
    "                    \"summary_csf_mean\",\n",
    "                    \"summary_csf_median\",\n",
    "                    \"summary_csf_n\",\n",
    "                    \"summary_csf_p05\",\n",
    "                    \"summary_csf_p95\",\n",
    "                    \"summary_csf_stdv\",\n",
    "                    \"summary_gm_k\",\n",
    "                    \"summary_gm_mad\",\n",
    "                    \"summary_gm_mean\",\n",
    "                    \"summary_gm_median\",\n",
    "                    \"summary_gm_n\",\n",
    "                    \"summary_gm_p05\",\n",
    "                    \"summary_gm_p95\",\n",
    "                    \"summary_gm_stdv\",\n",
    "                    \"summary_wm_k\",\n",
    "                    \"summary_wm_mad\",\n",
    "                    \"summary_wm_mean\",\n",
    "                    \"summary_wm_median\",\n",
    "                    \"summary_wm_n\",\n",
    "                    \"summary_wm_p05\",\n",
    "                    \"summary_wm_p95\",\n",
    "                    \"summary_wm_stdv\",\n",
    "                    \"tpm_overlap_csf\",\n",
    "                    \"tpm_overlap_gm\",\n",
    "                    \"tpm_overlap_wm\",\n",
    "                    \"wm2max\"\n",
    "                ]\n",
    "            ),\n",
    "        ),\n",
    "    ]\n",
    ")\n",
    "\n",
    "ds_processed = preprocessor.fit_transform(ds)"
   ]
  },
  {
   "cell_type": "markdown",
   "metadata": {},
   "source": [
    "## Predict"
   ]
  },
  {
   "cell_type": "markdown",
   "metadata": {},
   "source": [
    "Predict model.fit (th=0.5)"
   ]
  },
  {
   "cell_type": "code",
   "execution_count": null,
   "metadata": {},
   "outputs": [],
   "source": [
    "# Predict the classes of the new dataset\n",
    "y_pred = model.predict(ds)"
   ]
  },
  {
   "cell_type": "code",
   "execution_count": null,
   "metadata": {},
   "outputs": [],
   "source": [
    "# add the index of the excluded ones to a list\n",
    "excluded = []\n",
    "for i, x in enumerate(y_pred):\n",
    "    if x == 0: # 0 is excluded\n",
    "        excluded.append(i)"
   ]
  },
  {
   "cell_type": "markdown",
   "metadata": {},
   "source": [
    "Predict mode.predict_proba (th)"
   ]
  },
  {
   "cell_type": "code",
   "execution_count": 3,
   "metadata": {},
   "outputs": [
    {
     "name": "stdout",
     "output_type": "stream",
     "text": [
      "Median score: 0.203\n",
      "P95 score: 0.389\n"
     ]
    }
   ],
   "source": [
    "import numpy as np\n",
    "y_scores = model.predict_proba(ds)[:, 1] # 0 for excluded according to the model training, or 1 if model trained with SHIP dataset\n",
    "print(f\"Median score: {np.median(y_scores):.3f}\")\n",
    "print(f\"P95 score: {np.percentile(y_scores, 95):.3f}\")"
   ]
  },
  {
   "cell_type": "code",
   "execution_count": 29,
   "metadata": {},
   "outputs": [
    {
     "name": "stdout",
     "output_type": "stream",
     "text": [
      "54\n"
     ]
    }
   ],
   "source": [
    "# how many values > threshold from y_scores\n",
    "threshold = 0.389\n",
    "count = (y_scores > threshold).sum()\n",
    "print(count)"
   ]
  },
  {
   "cell_type": "code",
   "execution_count": 30,
   "metadata": {},
   "outputs": [],
   "source": [
    "# indices of values > threshold from y_scores\n",
    "y_pred_idx = (y_scores > threshold).nonzero()[0]"
   ]
  },
  {
   "cell_type": "code",
   "execution_count": 31,
   "metadata": {},
   "outputs": [],
   "source": [
    "# add the index of the excluded ones to a list\n",
    "excluded = []\n",
    "for i, x in enumerate(y_scores):\n",
    "    if x > threshold:\n",
    "        excluded.append(i)"
   ]
  },
  {
   "cell_type": "markdown",
   "metadata": {},
   "source": [
    "## Excluded subjects"
   ]
  },
  {
   "cell_type": "code",
   "execution_count": 32,
   "metadata": {},
   "outputs": [],
   "source": [
    "# \"bids_name\" of the indeces in \"excluded\" in \"ds_aux\"\n",
    "excluded_bids = [] # bids names\n",
    "for i in excluded:\n",
    "    excluded_bids.append(ds_aux.iloc[i, 0])"
   ]
  },
  {
   "cell_type": "markdown",
   "metadata": {},
   "source": [
    "Eye reports names of the excluded subjects"
   ]
  },
  {
   "cell_type": "code",
   "execution_count": 33,
   "metadata": {},
   "outputs": [],
   "source": [
    "bids_csv = pd.read_csv(\"/home/jaimebarranco/Desktop/MRI-QC/fetal/fetalqc_non-labeled-dataset/bids_csv.csv\")\n",
    "# reports name of the indeces in \"excluded\" in \"df_ls\"\n",
    "excluded_names = [] # reports names\n",
    "for name in excluded_bids:\n",
    "    name = name.split('-')[1].split('_')[0]\n",
    "    sub = int(name)\n",
    "    # index of bids_csv where the column 'sub' matches 'sub'\n",
    "    index = bids_csv.index[bids_csv['sub'] == sub]\n",
    "    # value of the column 'name' of a specific index\n",
    "    report = bids_csv.iloc[index]['name'].values[0]\n",
    "    excluded_names.append(report)"
   ]
  },
  {
   "cell_type": "code",
   "execution_count": 34,
   "metadata": {},
   "outputs": [
    {
     "name": "stdout",
     "output_type": "stream",
     "text": [
      "Excluded subjects: 54/1027\n",
      "       bids_name       name\n",
      "0    sub-001_T1w  sub-APUKS\n",
      "19   sub-473_T1w  sub-BDGIB\n",
      "27   sub-650_T1w  sub-BGQKW\n",
      "13   sub-331_T1w  sub-CXYLE\n",
      "10   sub-274_T1w  sub-DCIUE\n",
      "44   sub-871_T1w  sub-DESIW\n",
      "9    sub-235_T1w  sub-EDVET\n",
      "43   sub-868_T1w  sub-ENOOW\n",
      "37   sub-764_T1w  sub-EXYUC\n",
      "35   sub-718_T1w  sub-FKYUF\n",
      "20   sub-483_T1w  sub-FUJML\n",
      "24   sub-583_T1w  sub-GDCYF\n",
      "2    sub-034_T1w  sub-GHDKQ\n",
      "6    sub-150_T1w  sub-GIHHF\n",
      "15   sub-450_T1w  sub-GUAIG\n",
      "42   sub-865_T1w  sub-HLOOZ\n",
      "25   sub-596_T1w  sub-HQGMI\n",
      "30   sub-678_T1w  sub-INKRS\n",
      "45   sub-892_T1w  sub-IVFIO\n",
      "8    sub-224_T1w  sub-JPPEO\n",
      "34   sub-713_T1w  sub-JTGMM\n",
      "36   sub-746_T1w  sub-KJSIW\n",
      "3   sub-1151_T1w  sub-KVDKS\n",
      "16   sub-451_T1w  sub-LYRAA\n",
      "17   sub-452_T1w  sub-MDZXS\n",
      "49   sub-938_T1w  sub-MIFZE\n",
      "41   sub-862_T1w  sub-MXPDD\n",
      "11   sub-281_T1w  sub-NLMGC\n",
      "33   sub-699_T1w  sub-ODLZQ\n",
      "38   sub-772_T1w  sub-OJULJ\n",
      "5    sub-147_T1w  sub-OOJUF\n",
      "31   sub-687_T1w  sub-OPBWJ\n",
      "28   sub-653_T1w  sub-ORXOC\n",
      "32   sub-690_T1w  sub-PMJIC\n",
      "1    sub-015_T1w  sub-PSBSI\n",
      "51   sub-962_T1w  sub-PXFKB\n",
      "26   sub-633_T1w  sub-QDFPC\n",
      "52   sub-971_T1w  sub-QOLWZ\n",
      "46   sub-903_T1w  sub-QPAES\n",
      "50   sub-939_T1w  sub-RSMQO\n",
      "7    sub-221_T1w  sub-TESUF\n",
      "12   sub-291_T1w  sub-VOHGB\n",
      "14   sub-335_T1w  sub-WUEHE\n",
      "53   sub-993_T1w  sub-WXRXV\n",
      "22   sub-556_T1w  sub-XLUYX\n",
      "21   sub-524_T1w  sub-YUSAQ\n",
      "47   sub-931_T1w  sub-YYCTV\n",
      "48   sub-933_T1w  sub-ZBUVM\n",
      "18   sub-471_T1w  sub-ZBVUD\n",
      "4   sub-1197_T1w  sub-ZJLGX\n",
      "23   sub-568_T1w  sub-ZMLMI\n",
      "29   sub-665_T1w  sub-ZSFPW\n",
      "40   sub-793_T1w  sub-ZYUWH\n",
      "39   sub-778_T1w  sub-ZZSWX\n"
     ]
    }
   ],
   "source": [
    "df_excluded = pd.DataFrame({'bids_name': excluded_bids, 'name': excluded_names})\n",
    "print(f\"Excluded subjects: {len(df_excluded)}/{len(y_scores)}\") # y_scores or y_pred\n",
    "# order df_excluded by 'name'\n",
    "df_excluded = df_excluded.sort_values(by=['name'])\n",
    "print(df_excluded)"
   ]
  },
  {
   "cell_type": "markdown",
   "metadata": {},
   "source": [
    "Compare to subjective rating (Meri, Bene)"
   ]
  },
  {
   "cell_type": "code",
   "execution_count": null,
   "metadata": {},
   "outputs": [],
   "source": [
    "## print 'bids_name' of the subjects that are both in df_excluded and in excluded_dsaux\n",
    "# common_subs = []\n",
    "# for i in df_excluded['bids_name']:\n",
    "#     if i in excluded_dsaux:\n",
    "#         common_subs.append(i)\n",
    "# print(f\"Common subjects: {len(common_subs)}/{len(excluded_dsaux)}\")\n",
    "# print(common_subs)"
   ]
  },
  {
   "cell_type": "markdown",
   "metadata": {},
   "source": [
    "Excluded subjects to an excel file"
   ]
  },
  {
   "cell_type": "code",
   "execution_count": 35,
   "metadata": {},
   "outputs": [],
   "source": [
    "# df_excluded to an excel file\n",
    "df_excluded.to_excel(\"/home/jaimebarranco/Downloads/excluded_mriqclearn_N183_NoBrainIQMs_th0389.xlsx\", index=False)"
   ]
  },
  {
   "cell_type": "markdown",
   "metadata": {},
   "source": [
    "Copy subjects' reports to a folder"
   ]
  },
  {
   "cell_type": "code",
   "execution_count": 36,
   "metadata": {},
   "outputs": [],
   "source": [
    "import os, shutil\n",
    "\n",
    "reports_folder = '/home/jaimebarranco/Desktop/MRI-QC/fetal/fetalqc_non-labeled-dataset'\n",
    "output_folder = '/home/jaimebarranco/Downloads/excluded_mriqclearn_N183_NoBrainIQMs_th0389'\n",
    "if not os.path.exists(output_folder):\n",
    "    os.makedirs(output_folder)\n",
    "\n",
    "# copy html reports from reports_folder that match the subjects in excluded dataframe to output_folder\n",
    "for i in range(len(excluded)):\n",
    "    subject = df_excluded['name'].values[i]\n",
    "    for filename in os.listdir(reports_folder):\n",
    "        if filename.startswith(f'{subject}_report'):\n",
    "            shutil.copy(f'{reports_folder}/{filename}', f'{output_folder}/{filename}')"
   ]
  },
  {
   "cell_type": "markdown",
   "metadata": {},
   "source": [
    "Compare excluded subjects by folder"
   ]
  },
  {
   "cell_type": "code",
   "execution_count": 37,
   "metadata": {},
   "outputs": [
    {
     "name": "stdout",
     "output_type": "stream",
     "text": [
      "sub-APUKS_report.html is in both folders\n",
      "sub-DESIW_report.html is in both folders\n",
      "sub-OKQBK_report.html is only in folder1\n",
      "sub-HHUUT_report.html is only in folder1\n",
      "sub-XHWHZ_report.html is only in folder1\n",
      "sub-ODLZQ_report.html is in both folders\n",
      "sub-CYBAC_report.html is only in folder1\n",
      "sub-RSMQO_report.html is in both folders\n",
      "sub-BTBKI_report.html is only in folder1\n",
      "sub-OQIYU_report.html is only in folder1\n",
      "sub-TEOHS_report.html is only in folder1\n",
      "sub-HLOOZ_report.html is in both folders\n",
      "sub-YYCTV_report.html is in both folders\n",
      "sub-GDCYF_report.html is in both folders\n",
      "sub-ZSFPW_report.html is in both folders\n",
      "sub-BGQKW_report.html is in both folders\n",
      "sub-PCLII_report.html is only in folder1\n",
      "sub-DGQKQ_report.html is only in folder1\n",
      "sub-PXFKB_report.html is in both folders\n",
      "sub-JZZEH_report.html is only in folder1\n",
      "sub-LVQIG_report.html is only in folder1\n",
      "sub-KJSIW_report.html is in both folders\n",
      "sub-EHCJB_report.html is only in folder1\n",
      "sub-ORXOC_report.html is in both folders\n",
      "sub-BDGIB_report.html is in both folders\n",
      "sub-KJIQO_report.html is only in folder1\n",
      "sub-ZZSWX_report.html is in both folders\n",
      "sub-FUJML_report.html is in both folders\n",
      "sub-ZBVUD_report.html is in both folders\n",
      "sub-TESUF_report.html is in both folders\n",
      "sub-QOLWZ_report.html is in both folders\n",
      "sub-FKYUF_report.html is in both folders\n",
      "sub-OJULJ_report.html is in both folders\n",
      "sub-JTGMM_report.html is in both folders\n",
      "sub-MIFZE_report.html is in both folders\n",
      "sub-ZKUQA_report.html is only in folder1\n",
      "sub-ZMLMI_report.html is in both folders\n",
      "sub-INKRS_report.html is in both folders\n",
      "sub-KKADZ_report.html is only in folder1\n",
      "sub-RKQFH_report.html is only in folder1\n",
      "sub-WXRXV_report.html is in both folders\n",
      "sub-EXYUC_report.html is in both folders\n",
      "sub-DLWNU_report.html is only in folder1\n",
      "sub-MXPDD_report.html is in both folders\n",
      "sub-YUSAQ_report.html is in both folders\n",
      "sub-HGOTT_report.html is only in folder1\n",
      "sub-UWBQW_report.html is only in folder1\n",
      "sub-HJWGG_report.html is only in folder1\n",
      "sub-AEHRL_report.html is only in folder1\n",
      "sub-PMJIC_report.html is in both folders\n",
      "sub-QDFPC_report.html is in both folders\n",
      "sub-CDOSQ_report.html is only in folder1\n",
      "sub-YWAOQ_report.html is only in folder1\n",
      "\n",
      "30/53 html reports are in both folders\n"
     ]
    }
   ],
   "source": [
    "import os\n",
    "\n",
    "folder1 = '/home/jaimebarranco/Downloads/excluded_N183_NoBrainIQMs_th043'\n",
    "folder2 = '/home/jaimebarranco/Downloads/excluded_mriqclearn_N183_NoBrainIQMs_th0389'\n",
    "\n",
    "# number of files in folders\n",
    "num_files_folder1 = len(os.listdir(folder1))\n",
    "num_files_folder2 = len(os.listdir(folder2))\n",
    "\n",
    "# compare the html reports in folder1 and folder2\n",
    "count = 0\n",
    "if num_files_folder1 <= num_files_folder2: # folder with less files to do the loop with\n",
    "    for filename in os.listdir(folder1):\n",
    "        if filename in os.listdir(folder2):\n",
    "            print(f'{filename} is in both folders')\n",
    "            count += 1\n",
    "        else:\n",
    "            print(f'{filename} is only in folder1')\n",
    "    print(f'\\n{count}/{len(os.listdir(folder1))} html reports are in both folders')\n",
    "else:\n",
    "    for filename in os.listdir(folder2):\n",
    "        if filename in os.listdir(folder1):\n",
    "            print(f'{filename} is in both folders')\n",
    "            count += 1\n",
    "        else:\n",
    "            print(f'{filename} is only in folder2')\n",
    "    print(f'\\n{count}/{len(os.listdir(folder2))} html reports are in both folders')\n"
   ]
  },
  {
   "cell_type": "markdown",
   "metadata": {},
   "source": [
    "Compare excluded subjects by threshold\n",
    "\n",
    "If we increase the threshold, we would have less excluded subjects. But were those subjects excluded by me as well? Let's see..."
   ]
  },
  {
   "cell_type": "code",
   "execution_count": 38,
   "metadata": {},
   "outputs": [
    {
     "name": "stdout",
     "output_type": "stream",
     "text": [
      "54 subjects in excel1\n",
      "53 subjects in excel2\n",
      "Number of excluded subjects: 7/30 ==> 23.333333%\n",
      "\n",
      "30/30 out of 53 subjects have the same my_rate in both dataframes \n",
      "0 subjects have different my_rate \n",
      "\n"
     ]
    }
   ],
   "source": [
    "excel1 = pd.read_excel('/home/jaimebarranco/Downloads/excluded_mriqclearn_N183_NoBrainIQMs_th0389.xlsx')\n",
    "excel2 = pd.read_excel('/home/jaimebarranco/Downloads/excluded_mriqclearn_N183_NoBrainIQMs_th043.xlsx')\n",
    "# excel2 = df_excluded\n",
    "\n",
    "print(f'{len(excel1)} subjects in excel1')\n",
    "print(f'{len(excel2)} subjects in excel2')\n",
    "\n",
    "# subdataframe of those subjects with equal 'bids_name' in both dataframes\n",
    "common_subs1 = excel1[excel1['bids_name'].isin(excel2['bids_name'])]\n",
    "common_subs2 = excel2[excel2['bids_name'].isin(excel1['bids_name'])] # to check intra-rater reliability\n",
    "\n",
    "# percentage of excluded subjects in 'common_subs2'\n",
    "print(f\"Number of excluded subjects: {common_subs2['my_rate'].value_counts()[0]}/{len(common_subs2)} ==> {common_subs2['my_rate'].value_counts()[0]/len(common_subs2)*100:2f}%\")\n",
    "\n",
    "# how many of those subjects had the same 'my_rate' in both dataframes\n",
    "count = 0\n",
    "for i in range(len(common_subs1)):\n",
    "    if common_subs1['my_rate'].values[i] == common_subs2['my_rate'].values[i]:\n",
    "        count += 1\n",
    "print(f'\\n{count}/{len(common_subs1)} out of {len(excel2)} subjects have the same my_rate in both dataframes \\n{len(common_subs1)-count} subjects have different my_rate \\n')\n",
    "\n",
    "# which of them don't have the same 'my_rate' in both dataframes\n",
    "for i in range(len(common_subs1)):\n",
    "    if common_subs1['my_rate'].values[i] != common_subs2['my_rate'].values[i]:\n",
    "        print(f'{common_subs1[\"name\"].values[i]} has {common_subs1[\"my_rate\"].values[i]} in excel1 and {common_subs2[\"my_rate\"].values[i]} in excel2')"
   ]
  },
  {
   "cell_type": "code",
   "execution_count": 39,
   "metadata": {},
   "outputs": [
    {
     "name": "stdout",
     "output_type": "stream",
     "text": [
      "Excluded: 7/30 subjects. 23.33%\n",
      "      bids_name       name  my_rate comments\n",
      "0   sub-001_T1w  sub-APUKS        1      NaN\n",
      "1   sub-473_T1w  sub-BDGIB        0      NaN\n",
      "2   sub-650_T1w  sub-BGQKW        1      NaN\n",
      "5   sub-871_T1w  sub-DESIW        1      NaN\n",
      "8   sub-764_T1w  sub-EXYUC        1      NaN\n",
      "9   sub-718_T1w  sub-FKYUF        0      NaN\n",
      "10  sub-483_T1w  sub-FUJML        1      NaN\n",
      "11  sub-583_T1w  sub-GDCYF        1      NaN\n",
      "15  sub-865_T1w  sub-HLOOZ        0      NaN\n",
      "17  sub-678_T1w  sub-INKRS        1      NaN\n",
      "20  sub-713_T1w  sub-JTGMM        1      NaN\n",
      "21  sub-746_T1w  sub-KJSIW        1      NaN\n",
      "25  sub-938_T1w  sub-MIFZE        0      NaN\n",
      "26  sub-862_T1w  sub-MXPDD        1      NaN\n",
      "28  sub-699_T1w  sub-ODLZQ        1      NaN\n",
      "29  sub-772_T1w  sub-OJULJ        0      NaN\n",
      "32  sub-653_T1w  sub-ORXOC        1      NaN\n",
      "33  sub-690_T1w  sub-PMJIC        1      NaN\n",
      "35  sub-962_T1w  sub-PXFKB        1      NaN\n",
      "36  sub-633_T1w  sub-QDFPC        1      NaN\n",
      "37  sub-971_T1w  sub-QOLWZ        0      NaN\n",
      "39  sub-939_T1w  sub-RSMQO        1      NaN\n",
      "40  sub-221_T1w  sub-TESUF        1      NaN\n",
      "43  sub-993_T1w  sub-WXRXV        1      NaN\n",
      "45  sub-524_T1w  sub-YUSAQ        1      NaN\n",
      "46  sub-931_T1w  sub-YYCTV        1      NaN\n",
      "48  sub-471_T1w  sub-ZBVUD        0      NaN\n",
      "50  sub-568_T1w  sub-ZMLMI        1      NaN\n",
      "51  sub-665_T1w  sub-ZSFPW        1      NaN\n",
      "53  sub-778_T1w  sub-ZZSWX        1      NaN\n",
      "Excluded: 7/30 subjects. 23.33%\n",
      "      bids_name       name  my_rate comments\n",
      "1   sub-473_T1w  sub-BDGIB        0      NaN\n",
      "9   sub-718_T1w  sub-FKYUF        0      NaN\n",
      "15  sub-865_T1w  sub-HLOOZ        0      NaN\n",
      "25  sub-938_T1w  sub-MIFZE        0      NaN\n",
      "29  sub-772_T1w  sub-OJULJ        0      NaN\n",
      "37  sub-971_T1w  sub-QOLWZ        0      NaN\n",
      "48  sub-471_T1w  sub-ZBVUD        0      NaN\n"
     ]
    }
   ],
   "source": [
    "# count the number of '0' in \"my_rate\" column\n",
    "common_subs = common_subs1\n",
    "zeros = common_subs['my_rate'].value_counts()[0]\n",
    "print(f'Excluded: {zeros}/{len(common_subs)} subjects. {zeros/len(common_subs)*100:.2f}%')\n",
    "print(common_subs)\n",
    "\n",
    "# list and percentage of the subjects with equal rating in both dataframes\n",
    "common_excluded = common_subs[common_subs['my_rate'] == 0]\n",
    "print(f'Excluded: {len(common_excluded)}/{len(common_subs)} subjects. {len(common_excluded)/len(common_subs)*100:.2f}%')\n",
    "print(common_excluded)"
   ]
  },
  {
   "cell_type": "markdown",
   "metadata": {},
   "source": [
    "Are they really excluded? - My rate"
   ]
  },
  {
   "cell_type": "code",
   "execution_count": 40,
   "metadata": {},
   "outputs": [
    {
     "name": "stdout",
     "output_type": "stream",
     "text": [
      "Excluded: 13/54 subjects ==> 24.07%\n"
     ]
    }
   ],
   "source": [
    "excel_file = \"/home/jaimebarranco/Downloads/excluded_mriqclearn_N183_NoBrainIQMs_th0389.xlsx\"\n",
    "my_rate_df = pd.read_excel(excel_file)#, sheet_name=\"045\")\n",
    "\n",
    "# count the number of '0' in \"my_rate\" column\n",
    "zeros = my_rate_df['my_rate'].value_counts()[0]\n",
    "print(f'Excluded: {zeros}/{len(my_rate_df)} subjects ==> {zeros/len(my_rate_df)*100:.2f}%')"
   ]
  }
 ],
 "metadata": {
  "kernelspec": {
   "display_name": "a-eye",
   "language": "python",
   "name": "python3"
  },
  "language_info": {
   "codemirror_mode": {
    "name": "ipython",
    "version": 3
   },
   "file_extension": ".py",
   "mimetype": "text/x-python",
   "name": "python",
   "nbconvert_exporter": "python",
   "pygments_lexer": "ipython3",
   "version": "3.8.13"
  }
 },
 "nbformat": 4,
 "nbformat_minor": 2
}

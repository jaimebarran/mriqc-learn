{
 "cells": [
  {
   "cell_type": "markdown",
   "metadata": {},
   "source": [
    "Load model "
   ]
  },
  {
   "cell_type": "code",
   "execution_count": 4,
   "metadata": {},
   "outputs": [],
   "source": [
    "from joblib import load\n",
    "\n",
    "# Load the trained model\n",
    "model = load(\"/mnt/sda1/Repos/mriqc/mriqc-learn/mriqc-learn/mriqc_learn/data/classifier2.joblib\")"
   ]
  },
  {
   "cell_type": "markdown",
   "metadata": {},
   "source": [
    "Load dataset"
   ]
  },
  {
   "cell_type": "code",
   "execution_count": 5,
   "metadata": {},
   "outputs": [],
   "source": [
    "import pandas as pd\n",
    "\n",
    "# Load the new dataset\n",
    "ds_aux = pd.read_csv(\"/mnt/sda1/Repos/mriqc/mriqc-learn/mriqc-learn/mriqc_learn/datasets/SHIP1210.tsv\", sep=\"\\t\")\n",
    "# ds from the 3rd column\n",
    "ds = ds_aux.iloc[:, 1:] # 2 if dataset contains ratings, 1 if not\n",
    "# move first column to the last\n",
    "ds = ds[[c for c in ds if c not in [\"site\"]] + [\"site\"]]"
   ]
  },
  {
   "cell_type": "markdown",
   "metadata": {},
   "source": [
    "Excluded subjects from ds_aux"
   ]
  },
  {
   "cell_type": "code",
   "execution_count": 6,
   "metadata": {},
   "outputs": [],
   "source": [
    "# add subjects whose 'rating' are 1 from 'ds_aux to a list\n",
    "# excluded_dsaux = ds_aux.loc[ds_aux['rating'] == 1, 'bids_name'].tolist()\n",
    "# print(\"Excluded subjects: \", len(excluded_dsaux))\n",
    "# print(excluded_dsaux)"
   ]
  },
  {
   "cell_type": "markdown",
   "metadata": {},
   "source": [
    "Preprocessing"
   ]
  },
  {
   "cell_type": "code",
   "execution_count": 7,
   "metadata": {},
   "outputs": [],
   "source": [
    "from sklearn.pipeline import Pipeline\n",
    "from sklearn.ensemble import RandomForestClassifier as RFC\n",
    "from mriqc_learn.models import preprocess as pp\n",
    "\n",
    "# Preprocess the new dataset\n",
    "preprocessor = Pipeline(\n",
    "    [\n",
    "        # (\n",
    "        #     \"drop_ft\",\n",
    "        #     pp.DropColumns(\n",
    "        #         drop=[f\"size_{ax}\" for ax in \"xyz\"] + [f\"spacing_{ax}\" for ax in \"xyz\"]\n",
    "        #     ),\n",
    "        # ),\n",
    "        (\n",
    "            \"scale\",\n",
    "            pp.SiteRobustScaler(\n",
    "                with_centering=True,\n",
    "                with_scaling=True,\n",
    "            ),\n",
    "        ),\n",
    "        (\"site_pred\", pp.SiteCorrelationSelector()),\n",
    "        # (\"winnow\", pp.NoiseWinnowFeatSelect(use_classifier=True)),\n",
    "        # (\"drop_site\", pp.DropColumns(drop=[\"site\"])),\n",
    "        # (\n",
    "        #     \"rfc\",\n",
    "        #     RFC(\n",
    "        #         bootstrap=True,\n",
    "        #         class_weight=None,\n",
    "        #         criterion=\"gini\",\n",
    "        #         max_depth=10,\n",
    "        #         max_features=\"sqrt\",\n",
    "        #         max_leaf_nodes=None,\n",
    "        #         min_impurity_decrease=0.0,\n",
    "        #         min_samples_leaf=10,\n",
    "        #         min_samples_split=10,\n",
    "        #         min_weight_fraction_leaf=0.0,\n",
    "        #         n_estimators=400,\n",
    "        #         oob_score=True,\n",
    "        #     ),\n",
    "        # ),\n",
    "    ]\n",
    ")\n",
    "\n",
    "ds_processed = preprocessor.fit_transform(ds)"
   ]
  },
  {
   "cell_type": "markdown",
   "metadata": {},
   "source": [
    "## Predict"
   ]
  },
  {
   "cell_type": "markdown",
   "metadata": {},
   "source": [
    "Predict model.fit (th=0.5)"
   ]
  },
  {
   "cell_type": "code",
   "execution_count": 8,
   "metadata": {},
   "outputs": [],
   "source": [
    "# Predict the classes of the new dataset\n",
    "y_pred = model.predict(ds)"
   ]
  },
  {
   "cell_type": "code",
   "execution_count": 9,
   "metadata": {},
   "outputs": [],
   "source": [
    "# add the index of the excluded ones to a list\n",
    "excluded = []\n",
    "for i, x in enumerate(y_pred):\n",
    "    if x == 0: # 0 is excluded\n",
    "        excluded.append(i)"
   ]
  },
  {
   "cell_type": "markdown",
   "metadata": {},
   "source": [
    "Predict mode.predict_proba (th)"
   ]
  },
  {
   "cell_type": "code",
   "execution_count": 10,
   "metadata": {},
   "outputs": [],
   "source": [
    "y_scores = model.predict_proba(ds)[:, 0] # 0 for excluded according to the model training"
   ]
  },
  {
   "cell_type": "code",
   "execution_count": 11,
   "metadata": {},
   "outputs": [
    {
     "name": "stdout",
     "output_type": "stream",
     "text": [
      "300\n"
     ]
    }
   ],
   "source": [
    "# how many values > 0.5 from y_scores\n",
    "threshold = 0.256\n",
    "count = (y_scores > threshold).sum()\n",
    "print(count)"
   ]
  },
  {
   "cell_type": "code",
   "execution_count": 12,
   "metadata": {},
   "outputs": [],
   "source": [
    "# indices of values > threshold from y_scores\n",
    "y_pred_idx = (y_scores > threshold).nonzero()[0]"
   ]
  },
  {
   "cell_type": "code",
   "execution_count": 13,
   "metadata": {},
   "outputs": [],
   "source": [
    "# add the index of the excluded ones to a list\n",
    "excluded = []\n",
    "for i, x in enumerate(y_scores):\n",
    "    if x > threshold:\n",
    "        excluded.append(i)"
   ]
  },
  {
   "cell_type": "markdown",
   "metadata": {},
   "source": [
    "## Excluded subjects"
   ]
  },
  {
   "cell_type": "code",
   "execution_count": 14,
   "metadata": {},
   "outputs": [],
   "source": [
    "# \"bids_name\" of the indeces in \"excluded\" in \"ds_aux\"\n",
    "excluded_bids = [] # bids names\n",
    "for i in excluded:\n",
    "    excluded_bids.append(ds_aux.iloc[i, 0])"
   ]
  },
  {
   "cell_type": "markdown",
   "metadata": {},
   "source": [
    "Eye reports names of the excluded subjects"
   ]
  },
  {
   "cell_type": "code",
   "execution_count": 15,
   "metadata": {},
   "outputs": [],
   "source": [
    "bids_csv = pd.read_csv(\"/home/jaimebarranco/Desktop/MRI-QC/fetal/fetalqc_non-labeled-dataset/bids_csv.csv\")\n",
    "# reports name of the indeces in \"excluded\" in \"df_ls\"\n",
    "excluded_names = [] # reports names\n",
    "for name in excluded_bids:\n",
    "    name = name.split('-')[1].split('_')[0]\n",
    "    sub = int(name)\n",
    "    # index of bids_csv where the column 'sub' matches 'sub'\n",
    "    index = bids_csv.index[bids_csv['sub'] == sub]\n",
    "    # value of the column 'name' of a specific index\n",
    "    report = bids_csv.iloc[index]['name'].values[0]\n",
    "    excluded_names.append(report)"
   ]
  },
  {
   "cell_type": "code",
   "execution_count": 16,
   "metadata": {},
   "outputs": [
    {
     "name": "stdout",
     "output_type": "stream",
     "text": [
      "Excluded subjects: 300/1210\n",
      "       bids_name       name\n",
      "0    sub-001_T1w  sub-APUKS\n",
      "1    sub-003_T1w  sub-OAXXH\n",
      "2    sub-006_T1w  sub-QAUMU\n",
      "3    sub-013_T1w  sub-ISJRU\n",
      "4    sub-015_T1w  sub-PSBSI\n",
      "..           ...        ...\n",
      "295  sub-979_T1w  sub-KKADZ\n",
      "296  sub-981_T1w  sub-EAPKW\n",
      "297  sub-983_T1w  sub-KHCXA\n",
      "298  sub-993_T1w  sub-WXRXV\n",
      "299  sub-999_T1w  sub-IOQEM\n",
      "\n",
      "[300 rows x 2 columns]\n"
     ]
    }
   ],
   "source": [
    "df_excluded = pd.DataFrame({'bids_name': excluded_bids, 'name': excluded_names})\n",
    "print(f\"Excluded subjects: {len(df_excluded)}/{len(y_scores)}\")\n",
    "print(df_excluded)"
   ]
  },
  {
   "cell_type": "markdown",
   "metadata": {},
   "source": [
    "Compare to subjective rating (Meri, Bene)"
   ]
  },
  {
   "cell_type": "code",
   "execution_count": null,
   "metadata": {},
   "outputs": [],
   "source": [
    "# print 'bids_name' of the subjects that are both in df_excluded and in excluded_dsaux\n",
    "# common_subs = []\n",
    "# for i in df_excluded['bids_name']:\n",
    "#     if i in excluded_dsaux:\n",
    "#         common_subs.append(i)\n",
    "# print(f\"Common subjects: {len(common_subs)}/{len(excluded_dsaux)}\")\n",
    "# print(common_subs)"
   ]
  },
  {
   "cell_type": "markdown",
   "metadata": {},
   "source": [
    "Excluded subjects to an excel file"
   ]
  },
  {
   "cell_type": "code",
   "execution_count": 17,
   "metadata": {},
   "outputs": [],
   "source": [
    "# df_excluded to an excel file\n",
    "df_excluded.to_excel(\"/home/jaimebarranco/Downloads/excluded_mriqclearn_th0256.xlsx\", index=False)"
   ]
  },
  {
   "cell_type": "markdown",
   "metadata": {},
   "source": [
    "Copy subjects' reports to a folder"
   ]
  },
  {
   "cell_type": "code",
   "execution_count": null,
   "metadata": {},
   "outputs": [],
   "source": [
    "import os, shutil\n",
    "\n",
    "reports_folder = '/home/jaimebarranco/Desktop/MRI-QC/fetal/fetalqc_non-labeled-dataset'\n",
    "output_folder = '/home/jaimebarranco/Downloads/excluded_mriqclearn_th0256'\n",
    "if not os.path.exists(output_folder):\n",
    "    os.makedirs(output_folder)\n",
    "\n",
    "# copy html reports from reports_folder that match the subjects in excluded dataframe to output_folder\n",
    "for i in range(len(excluded)):\n",
    "    subject = df_excluded['name'].values[i]\n",
    "    for filename in os.listdir(reports_folder):\n",
    "        if filename.startswith(f'{subject}_report'):\n",
    "            shutil.copy(f'{reports_folder}/{filename}', f'{output_folder}/{filename}')"
   ]
  },
  {
   "cell_type": "markdown",
   "metadata": {},
   "source": [
    "Compare excluded subjects"
   ]
  },
  {
   "cell_type": "code",
   "execution_count": null,
   "metadata": {},
   "outputs": [],
   "source": [
    "folder1 = '/home/jaimebarranco/Downloads/excluded_mriqclearn2'\n",
    "folder2 = '/home/jaimebarranco/Downloads/excluded_mriqclearn_th045'\n",
    "\n",
    "# number of files in folders\n",
    "num_files_folder1 = len(os.listdir(folder1))\n",
    "num_files_folder2 = len(os.listdir(folder2))\n",
    "\n",
    "# compare the html reports in folder1 and folder\n",
    "count = 0\n",
    "if num_files_folder1 <= num_files_folder2: # folder with less files to do the loop with\n",
    "    for filename in os.listdir(folder1):\n",
    "        if filename in os.listdir(folder2):\n",
    "            print(f'{filename} is in both folders')\n",
    "            count += 1\n",
    "        else:\n",
    "            print(f'{filename} is only in folder1')\n",
    "    print(f'\\n{count}/{len(os.listdir(folder1))} html reports are in both folders')\n",
    "else:\n",
    "    for filename in os.listdir(folder2):\n",
    "        if filename in os.listdir(folder1):\n",
    "            print(f'{filename} is in both folders')\n",
    "            count += 1\n",
    "        else:\n",
    "            print(f'{filename} is only in folder1')\n",
    "    print(f'\\n{count}/{len(os.listdir(folder2))} html reports are in both folders')\n"
   ]
  },
  {
   "cell_type": "markdown",
   "metadata": {},
   "source": [
    "Are they really excluded? - My rate"
   ]
  },
  {
   "cell_type": "code",
   "execution_count": null,
   "metadata": {},
   "outputs": [],
   "source": [
    "excel_file = \"/home/jaimebarranco/Downloads/excluded_mriqclearn.xlsx\"\n",
    "my_rate_df = pd.read_excel(excel_file, sheet_name=\"045\")\n",
    "\n",
    "# count the number of '0' in \"my_rate\" column\n",
    "zeros = my_rate_df['my_rate'].value_counts()[1]\n",
    "print(f'Excluded: {zeros}/{len(my_rate_df)} subjects')"
   ]
  }
 ],
 "metadata": {
  "kernelspec": {
   "display_name": "a-eye",
   "language": "python",
   "name": "python3"
  },
  "language_info": {
   "codemirror_mode": {
    "name": "ipython",
    "version": 3
   },
   "file_extension": ".py",
   "mimetype": "text/x-python",
   "name": "python",
   "nbconvert_exporter": "python",
   "pygments_lexer": "ipython3",
   "version": "3.8.13"
  }
 },
 "nbformat": 4,
 "nbformat_minor": 2
}
